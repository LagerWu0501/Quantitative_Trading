{
 "cells": [
  {
   "cell_type": "code",
   "execution_count": 1,
   "metadata": {},
   "outputs": [],
   "source": [
    "import pandas as pd\n",
    "import numpy as np\n",
    "import ftx"
   ]
  },
  {
   "cell_type": "code",
   "execution_count": 2,
   "metadata": {},
   "outputs": [],
   "source": [
    "# FTX = {\"API\": \"\",\n",
    "#          \"Secret\": \"\"}\n",
    "Maker_fee_rate = 0.0002\n",
    "FTX_client = ftx.FtxClient()"
   ]
  },
  {
   "cell_type": "code",
   "execution_count": 3,
   "metadata": {},
   "outputs": [],
   "source": [
    "symbol1 = \"BTC/USDT\"\n",
    "symbol2 = \"LTC/BTC\"\n",
    "symbol3 = \"LTC/USDT\""
   ]
  },
  {
   "cell_type": "code",
   "execution_count": 4,
   "metadata": {},
   "outputs": [],
   "source": [
    "sum = 0\n",
    "i = 0\n",
    "while True:\n",
    "# for i in range(1200):\n",
    "    order1 = FTX_client.get_orderbook(symbol1, 1)\n",
    "    bid1 = float(order1[\"bids\"][0][0])\n",
    "    ask1 = float(order1[\"asks\"][0][0])\n",
    "\n",
    "    order2 = FTX_client.get_orderbook(symbol2, 1)\n",
    "    bid2 = float(order2[\"bids\"][0][0])\n",
    "    ask2 = float(order2[\"asks\"][0][0])\n",
    "\n",
    "    order3 = FTX_client.get_orderbook(symbol3, 1)\n",
    "    bid3 = float(order3[\"bids\"][0][0])\n",
    "    ask3 = float(order3[\"asks\"][0][0])\n",
    "    i += 1\n",
    "    if (i == 1200):\n",
    "        break\n",
    "    # if (1 / ask1 / ask2 * bid3 > (1 + Maker_fee_rate * 3)):\n",
    "    #     sum += 1 / ask1 / ask2 * bid3 - (1 + Maker_fee_rate * 3)\n",
    "    #     print(1 / ask1 / ask2 * bid3, \"sum\", sum)\n",
    "    # if (bid1 * bid2 / ask3 > (1 + Maker_fee_rate * 3)):\n",
    "    #     sum += bid1 * bid2 / ask3 - (1 + Maker_fee_rate * 3)\n",
    "    #     print(bid1 * bid2 / ask3, \"sum\", sum)"
   ]
  }
 ],
 "metadata": {
  "kernelspec": {
   "display_name": "Python 3.8.10 64-bit",
   "language": "python",
   "name": "python3"
  },
  "language_info": {
   "codemirror_mode": {
    "name": "ipython",
    "version": 3
   },
   "file_extension": ".py",
   "mimetype": "text/x-python",
   "name": "python",
   "nbconvert_exporter": "python",
   "pygments_lexer": "ipython3",
   "version": "3.8.10"
  },
  "orig_nbformat": 4,
  "vscode": {
   "interpreter": {
    "hash": "5b3ded1ccb95c1d9bd405e7b823d9e85424cde40fbb5985eb47e999ef50e15b4"
   }
  }
 },
 "nbformat": 4,
 "nbformat_minor": 2
}
