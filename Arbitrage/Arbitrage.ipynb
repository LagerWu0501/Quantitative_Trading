{
 "cells": [
  {
   "cell_type": "code",
   "execution_count": 1,
   "metadata": {},
   "outputs": [],
   "source": [
    "import pandas as pd\n",
    "import numpy as np\n",
    "import ftx"
   ]
  },
  {
   "cell_type": "code",
   "execution_count": 2,
   "metadata": {},
   "outputs": [],
   "source": [
    "FTX = {\"API\": \"7DS8r5ipITuiR81i9Nov_Fi8jjxujDFaMWZvLW2_\",\n",
    "         \"Secret\": \"gaHIllTYJEXqX8G3gUvgmIRE-WzL36rfHmBmpc-E\"}\n",
    "Maker_fee_rate = 0.0002\n",
    "FTX_client = ftx.FtxClient()"
   ]
  },
  {
   "cell_type": "code",
   "execution_count": 3,
   "metadata": {},
   "outputs": [],
   "source": [
    "symbol1 = \"BTC/USDT\"\n",
    "symbol2 = \"ETH/BTC\"\n",
    "symbol3 = \"ETH/USDT\""
   ]
  },
  {
   "cell_type": "code",
   "execution_count": 4,
   "metadata": {},
   "outputs": [
    {
     "name": "stdout",
     "output_type": "stream",
     "text": [
      "1.0007191838765863 sum 0.00011918387658638174\n",
      "1.0006249033665835 sum 0.0001440872431699436\n",
      "1.0007718790982327 sum 0.00031596634140274027\n",
      "1.0011008678279327 sum 0.0008168341693355341\n",
      "1.0006041013948983 sum 0.0008209355642339045\n",
      "1.001285196868793 sum 0.0015061324330269965\n",
      "1.00068180295486 sum 0.0015879353878871516\n",
      "1.0006008623478106 sum 0.0015887977356978666\n",
      "1.0007393217029723 sum 0.0017281194386702392\n",
      "1.0010951574207019 sum 0.0022232768593721808\n",
      "1.000684547127192 sum 0.0023078239865641503\n",
      "1.001024163231166 sum 0.0027319872177302695\n",
      "1.0006388224677585 sum 0.0027708096854888176\n",
      "1.0007954749988004 sum 0.0029662846842892776\n",
      "1.001031741887224 sum 0.003398026571513446\n",
      "1.0010540615289987 sum 0.0038520881005121854\n",
      "1.0009012728944016 sum 0.004153360994913813\n",
      "1.0013587634977374 sum 0.004912124492651326\n",
      "1.0009632200693763 sum 0.005275344562027717\n",
      "1.0009819879071422 sum 0.0056573324691699955\n",
      "1.0006904721940533 sum 0.005747804663223333\n",
      "1.0008938425046974 sum 0.006041647167920772\n",
      "1.000654798815618 sum 0.006096445983538867\n",
      "1.000845250105721 sum 0.0063416960892599405\n",
      "1.0008422366328156 sum 0.0065839327220755806\n",
      "1.000803694596422 sum 0.006787627318497691\n",
      "1.0014204336561594 sum 0.00760806097465716\n",
      "1.000614701253009 sum 0.007622762227666335\n",
      "1.0006136329912205 sum 0.007636395218886927\n",
      "1.000849300439547 sum 0.007885695658433889\n",
      "1.0013231540508758 sum 0.008608849709309752\n",
      "1.0007640172025598 sum 0.008772866911869626\n",
      "1.0007595039508341 sum 0.00893237086270382\n",
      "1.0009811225773975 sum 0.00931349344010135\n",
      "1.0009859377954244 sum 0.009699431235525857\n",
      "1.0006806451612902 sum 0.009780076396816106\n",
      "1.0006420555274154 sum 0.009822131924231536\n",
      "1.0006168680238459 sum 0.009838999948077465\n",
      "1.0007770449733753 sum 0.010016044921452805\n",
      "1.000622377094981 sum 0.01003842201643379\n",
      "1.00146079592502 sum 0.010899217941453765\n",
      "1.0008506069155567 sum 0.011149824857010548\n",
      "1.000668377622623 sum 0.011218202479633677\n",
      "1.0010130717238663 sum 0.011631274203500075\n",
      "1.000605364989834 sum 0.011636639193334242\n",
      "1.000673789080422 sum 0.011710428273756346\n",
      "1.0011407222914073 sum 0.012251150565163682\n",
      "1.000686283504817 sum 0.012337434069980668\n",
      "1.0006441211167914 sum 0.012381555186772086\n",
      "1.000764351245085 sum 0.012545906431857157\n"
     ]
    }
   ],
   "source": [
    "sum = 0\n",
    "while True:\n",
    "    order1 = FTX_client.get_orderbook(symbol1, 1)\n",
    "    bid1 = float(order1[\"bids\"][0][0])\n",
    "    ask1 = float(order1[\"asks\"][0][0])\n",
    "\n",
    "    order2 = FTX_client.get_orderbook(symbol2, 1)\n",
    "    bid2 = float(order2[\"bids\"][0][0])\n",
    "    ask2 = float(order2[\"asks\"][0][0])\n",
    "\n",
    "    order3 = FTX_client.get_orderbook(symbol3, 1)\n",
    "    bid3 = float(order3[\"bids\"][0][0])\n",
    "    ask3 = float(order3[\"asks\"][0][0])\n",
    "\n",
    "    if (1 / ask1 / ask2 * bid3 > (1 + Maker_fee_rate * 3)):\n",
    "        sum += 1 / ask1 / ask2 * bid3 - (1 + Maker_fee_rate * 3)\n",
    "        print(1 / ask1 / ask2 * bid3, \"sum\", sum)\n",
    "    if (bid1 * bid2 / ask3 > (1 + Maker_fee_rate * 3)):\n",
    "        sum += bid1 * bid2 / ask3 - (1 + Maker_fee_rate * 3)\n",
    "        print(bid1 * bid2 / ask3, \"sum\", sum)"
   ]
  }
 ],
 "metadata": {
  "kernelspec": {
   "display_name": "Python 3.10.5 64-bit",
   "language": "python",
   "name": "python3"
  },
  "language_info": {
   "codemirror_mode": {
    "name": "ipython",
    "version": 3
   },
   "file_extension": ".py",
   "mimetype": "text/x-python",
   "name": "python",
   "nbconvert_exporter": "python",
   "pygments_lexer": "ipython3",
   "version": "3.10.5"
  },
  "orig_nbformat": 4,
  "vscode": {
   "interpreter": {
    "hash": "97cc609b13305c559618ec78a438abc56230b9381f827f22d070313b9a1f3777"
   }
  }
 },
 "nbformat": 4,
 "nbformat_minor": 2
}
