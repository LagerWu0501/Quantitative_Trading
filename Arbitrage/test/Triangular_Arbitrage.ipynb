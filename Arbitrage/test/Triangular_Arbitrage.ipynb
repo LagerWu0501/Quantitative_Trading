{
 "cells": [
  {
   "cell_type": "code",
   "execution_count": 15,
   "metadata": {},
   "outputs": [],
   "source": [
    "import pandas as pd\n",
    "import numpy as np\n",
    "from binance.client import Client\n",
    "from huobi.linear_swap.rest.account import Account\n",
    "from huobi.linear_swap.rest.market import Market\n",
    "from huobi.linear_swap.rest.order import Order\n",
    "import ftx\n",
    "from pybit import spot\n",
    "import pybit\n",
    "\n",
    "import os\n",
    "import sys"
   ]
  },
  {
   "cell_type": "code",
   "execution_count": 16,
   "metadata": {},
   "outputs": [],
   "source": [
    "Binance = {\"API\": \"ojaWM7JF5nib3nY9hpiTIM9RZDTmVWIW5k5Z4HrY11CksrN18IJuJrP42WSed2X4\",\n",
    "           \"Secret\": \"qkqY8QG9xiYQCvtctBBHhFqnUvz9mC1RiAxiSkU6zkTX3RisRwFc3KRINPWn91bz\"}\n",
    "\n",
    "Huobi = {\"API\": \"cc5417d1-d6f5a369-cdgs9k03f3-1916a\",\n",
    "         \"Secret\": \"c3680fc5-19f9569d-1e6fcce3-c60a0\"}\n",
    "\n",
    "FTX = {\"API\": \"7DS8r5ipITuiR81i9Nov_Fi8jjxujDFaMWZvLW2_\",\n",
    "         \"Secret\": \"gaHIllTYJEXqX8G3gUvgmIRE-WzL36rfHmBmpc-E\"}\n",
    "# Bybit = {\"API\": \"NUxyoWG4BHAb7LTnxD\", \n",
    "#          \"Secret\": \"ndCqe0JoQxXIyyZ5ptSuQjlKOpmLDxlJMobo\"}\n",
    "# Bybit = {\"API\": \"N2uSv0QzEOlWdfH9hA\", \n",
    "#          \"Secret\": \"4Js0R4PtfMHuX8MojpU0N0RL00yVoc4z7wlo\"}\n",
    "# Bybit = {\"API\": \"2UoJAV4WyNuuWYJRXV\", \n",
    "        #  \"Secret\": \"Pe2GeAnydR3pGvjDCdxVbe1loZcrSwNjsuBP\"}\n",
    "# Bybit = {\"API\": \"tT1bPqQ0gZCV7o8oZq\", \n",
    "#          \"Secret\": \"e7qDcXya61CuBcsbS5mOPy9310aeSO8f44xd\"}\n",
    "Bybit = {\"API\": \"j5NyBnCaabZlWM5dV1\", \n",
    "         \"Secret\": \"NADuLGwN3DatdZNlolrCqWtWFlq1YEhAr4rE\"}"
   ]
  },
  {
   "cell_type": "code",
   "execution_count": 109,
   "metadata": {},
   "outputs": [],
   "source": [
    "Bybit_client = spot.HTTP(\n",
    "    endpoint=\"https://api.bybit.com\",\n",
    "    api_key=Bybit[\"API\"],\n",
    "    api_secret=Bybit[\"Secret\"]\n",
    ")\n",
    "FTX_client = ftx.FtxClient()\n"
   ]
  },
  {
   "cell_type": "code",
   "execution_count": 107,
   "metadata": {},
   "outputs": [],
   "source": [
    "res = Bybit_client.place_active_order(\n",
    "    symbol = \"ETHUSDT\",\n",
    "    side = \"Buy\",\n",
    "    type = \"LIMIT_MAKER\", \n",
    "    qty = 0.01,\n",
    "    price = 1071,\n",
    "    time_in_force=\"GoodTillCancel\",\n",
    "    # reduce_only=False,\n",
    "    # close_on_trigger=False\n",
    "    )"
   ]
  },
  {
   "cell_type": "code",
   "execution_count": 115,
   "metadata": {},
   "outputs": [
    {
     "ename": "KeyboardInterrupt",
     "evalue": "",
     "output_type": "error",
     "traceback": [
      "\u001b[0;31m---------------------------------------------------------------------------\u001b[0m",
      "\u001b[0;31mKeyboardInterrupt\u001b[0m                         Traceback (most recent call last)",
      "\u001b[1;32m/mnt/c/Users/dm303/OneDrive/Desktop/QT_lab/Quantitative_Trading/Arbitrage/Triangular_Arbitrage.ipynb Cell 5\u001b[0m in \u001b[0;36m<cell line: 9>\u001b[0;34m()\u001b[0m\n\u001b[1;32m     <a href='vscode-notebook-cell://wsl%2Bubuntu/mnt/c/Users/dm303/OneDrive/Desktop/QT_lab/Quantitative_Trading/Arbitrage/Triangular_Arbitrage.ipynb#ch0000012vscode-remote?line=9'>10</a>\u001b[0m By_bid_0 \u001b[39m=\u001b[39m \u001b[39mfloat\u001b[39m(FTX_orders[\u001b[39m\"\u001b[39m\u001b[39mbids\u001b[39m\u001b[39m\"\u001b[39m][\u001b[39m0\u001b[39m][\u001b[39m0\u001b[39m])\n\u001b[1;32m     <a href='vscode-notebook-cell://wsl%2Bubuntu/mnt/c/Users/dm303/OneDrive/Desktop/QT_lab/Quantitative_Trading/Arbitrage/Triangular_Arbitrage.ipynb#ch0000012vscode-remote?line=10'>11</a>\u001b[0m By_ask_0 \u001b[39m=\u001b[39m \u001b[39mfloat\u001b[39m(FTX_orders[\u001b[39m\"\u001b[39m\u001b[39masks\u001b[39m\u001b[39m\"\u001b[39m][\u001b[39m0\u001b[39m][\u001b[39m0\u001b[39m])\n\u001b[0;32m---> <a href='vscode-notebook-cell://wsl%2Bubuntu/mnt/c/Users/dm303/OneDrive/Desktop/QT_lab/Quantitative_Trading/Arbitrage/Triangular_Arbitrage.ipynb#ch0000012vscode-remote?line=11'>12</a>\u001b[0m FTX_orders \u001b[39m=\u001b[39m FTX_client\u001b[39m.\u001b[39;49mget_orderbook(symbols[\u001b[39m1\u001b[39;49m], \u001b[39m1\u001b[39;49m)\n\u001b[1;32m     <a href='vscode-notebook-cell://wsl%2Bubuntu/mnt/c/Users/dm303/OneDrive/Desktop/QT_lab/Quantitative_Trading/Arbitrage/Triangular_Arbitrage.ipynb#ch0000012vscode-remote?line=12'>13</a>\u001b[0m By_bid_1 \u001b[39m=\u001b[39m \u001b[39mfloat\u001b[39m(FTX_orders[\u001b[39m\"\u001b[39m\u001b[39mbids\u001b[39m\u001b[39m\"\u001b[39m][\u001b[39m0\u001b[39m][\u001b[39m0\u001b[39m])\n\u001b[1;32m     <a href='vscode-notebook-cell://wsl%2Bubuntu/mnt/c/Users/dm303/OneDrive/Desktop/QT_lab/Quantitative_Trading/Arbitrage/Triangular_Arbitrage.ipynb#ch0000012vscode-remote?line=13'>14</a>\u001b[0m By_ask_1 \u001b[39m=\u001b[39m \u001b[39mfloat\u001b[39m(FTX_orders[\u001b[39m\"\u001b[39m\u001b[39masks\u001b[39m\u001b[39m\"\u001b[39m][\u001b[39m0\u001b[39m][\u001b[39m0\u001b[39m])\n",
      "File \u001b[0;32m~/.local/lib/python3.8/site-packages/ftx/api.py:372\u001b[0m, in \u001b[0;36mFtxClient.get_orderbook\u001b[0;34m(self, market, depth)\u001b[0m\n\u001b[1;32m    371\u001b[0m \u001b[39mdef\u001b[39;00m \u001b[39mget_orderbook\u001b[39m(\u001b[39mself\u001b[39m, market: \u001b[39mstr\u001b[39m, depth: Optional[\u001b[39mint\u001b[39m] \u001b[39m=\u001b[39m \u001b[39mNone\u001b[39;00m) \u001b[39m-\u001b[39m\u001b[39m>\u001b[39m \u001b[39mdict\u001b[39m:\n\u001b[0;32m--> 372\u001b[0m     \u001b[39mreturn\u001b[39;00m \u001b[39mself\u001b[39;49m\u001b[39m.\u001b[39;49m_get(\u001b[39mf\u001b[39;49m\u001b[39m'\u001b[39;49m\u001b[39mmarkets/\u001b[39;49m\u001b[39m{\u001b[39;49;00mmarket\u001b[39m}\u001b[39;49;00m\u001b[39m/orderbook\u001b[39;49m\u001b[39m'\u001b[39;49m, {\u001b[39m'\u001b[39;49m\u001b[39mdepth\u001b[39;49m\u001b[39m'\u001b[39;49m: depth})\n",
      "File \u001b[0;32m~/.local/lib/python3.8/site-packages/ftx/api.py:25\u001b[0m, in \u001b[0;36mFtxClient._get\u001b[0;34m(self, path, params)\u001b[0m\n\u001b[1;32m     24\u001b[0m \u001b[39mdef\u001b[39;00m \u001b[39m_get\u001b[39m(\u001b[39mself\u001b[39m, path: \u001b[39mstr\u001b[39m, params: Optional[Dict[\u001b[39mstr\u001b[39m, Any]] \u001b[39m=\u001b[39m \u001b[39mNone\u001b[39;00m) \u001b[39m-\u001b[39m\u001b[39m>\u001b[39m Any:\n\u001b[0;32m---> 25\u001b[0m     \u001b[39mreturn\u001b[39;00m \u001b[39mself\u001b[39;49m\u001b[39m.\u001b[39;49m_request(\u001b[39m'\u001b[39;49m\u001b[39mGET\u001b[39;49m\u001b[39m'\u001b[39;49m, path, params\u001b[39m=\u001b[39;49mparams)\n",
      "File \u001b[0;32m~/.local/lib/python3.8/site-packages/ftx/api.py:39\u001b[0m, in \u001b[0;36mFtxClient._request\u001b[0;34m(self, method, path, **kwargs)\u001b[0m\n\u001b[1;32m     37\u001b[0m \u001b[39mif\u001b[39;00m \u001b[39mself\u001b[39m\u001b[39m.\u001b[39m_api_key:\n\u001b[1;32m     38\u001b[0m     \u001b[39mself\u001b[39m\u001b[39m.\u001b[39m_sign_request(request)\n\u001b[0;32m---> 39\u001b[0m response \u001b[39m=\u001b[39m \u001b[39mself\u001b[39;49m\u001b[39m.\u001b[39;49m_session\u001b[39m.\u001b[39;49msend(request\u001b[39m.\u001b[39;49mprepare())\n\u001b[1;32m     41\u001b[0m \u001b[39mreturn\u001b[39;00m \u001b[39mself\u001b[39m\u001b[39m.\u001b[39m_process_response(response)\n",
      "File \u001b[0;32m/usr/lib/python3/dist-packages/requests/sessions.py:646\u001b[0m, in \u001b[0;36mSession.send\u001b[0;34m(self, request, **kwargs)\u001b[0m\n\u001b[1;32m    643\u001b[0m start \u001b[39m=\u001b[39m preferred_clock()\n\u001b[1;32m    645\u001b[0m \u001b[39m# Send the request\u001b[39;00m\n\u001b[0;32m--> 646\u001b[0m r \u001b[39m=\u001b[39m adapter\u001b[39m.\u001b[39;49msend(request, \u001b[39m*\u001b[39;49m\u001b[39m*\u001b[39;49mkwargs)\n\u001b[1;32m    648\u001b[0m \u001b[39m# Total elapsed time of the request (approximately)\u001b[39;00m\n\u001b[1;32m    649\u001b[0m elapsed \u001b[39m=\u001b[39m preferred_clock() \u001b[39m-\u001b[39m start\n",
      "File \u001b[0;32m/usr/lib/python3/dist-packages/requests/adapters.py:439\u001b[0m, in \u001b[0;36mHTTPAdapter.send\u001b[0;34m(self, request, stream, timeout, verify, cert, proxies)\u001b[0m\n\u001b[1;32m    437\u001b[0m \u001b[39mtry\u001b[39;00m:\n\u001b[1;32m    438\u001b[0m     \u001b[39mif\u001b[39;00m \u001b[39mnot\u001b[39;00m chunked:\n\u001b[0;32m--> 439\u001b[0m         resp \u001b[39m=\u001b[39m conn\u001b[39m.\u001b[39;49murlopen(\n\u001b[1;32m    440\u001b[0m             method\u001b[39m=\u001b[39;49mrequest\u001b[39m.\u001b[39;49mmethod,\n\u001b[1;32m    441\u001b[0m             url\u001b[39m=\u001b[39;49murl,\n\u001b[1;32m    442\u001b[0m             body\u001b[39m=\u001b[39;49mrequest\u001b[39m.\u001b[39;49mbody,\n\u001b[1;32m    443\u001b[0m             headers\u001b[39m=\u001b[39;49mrequest\u001b[39m.\u001b[39;49mheaders,\n\u001b[1;32m    444\u001b[0m             redirect\u001b[39m=\u001b[39;49m\u001b[39mFalse\u001b[39;49;00m,\n\u001b[1;32m    445\u001b[0m             assert_same_host\u001b[39m=\u001b[39;49m\u001b[39mFalse\u001b[39;49;00m,\n\u001b[1;32m    446\u001b[0m             preload_content\u001b[39m=\u001b[39;49m\u001b[39mFalse\u001b[39;49;00m,\n\u001b[1;32m    447\u001b[0m             decode_content\u001b[39m=\u001b[39;49m\u001b[39mFalse\u001b[39;49;00m,\n\u001b[1;32m    448\u001b[0m             retries\u001b[39m=\u001b[39;49m\u001b[39mself\u001b[39;49m\u001b[39m.\u001b[39;49mmax_retries,\n\u001b[1;32m    449\u001b[0m             timeout\u001b[39m=\u001b[39;49mtimeout\n\u001b[1;32m    450\u001b[0m         )\n\u001b[1;32m    452\u001b[0m     \u001b[39m# Send the request.\u001b[39;00m\n\u001b[1;32m    453\u001b[0m     \u001b[39melse\u001b[39;00m:\n\u001b[1;32m    454\u001b[0m         \u001b[39mif\u001b[39;00m \u001b[39mhasattr\u001b[39m(conn, \u001b[39m'\u001b[39m\u001b[39mproxy_pool\u001b[39m\u001b[39m'\u001b[39m):\n",
      "File \u001b[0;32m/usr/lib/python3/dist-packages/urllib3/connectionpool.py:665\u001b[0m, in \u001b[0;36mHTTPConnectionPool.urlopen\u001b[0;34m(self, method, url, body, headers, retries, redirect, assert_same_host, timeout, pool_timeout, release_conn, chunked, body_pos, **response_kw)\u001b[0m\n\u001b[1;32m    662\u001b[0m     \u001b[39mself\u001b[39m\u001b[39m.\u001b[39m_prepare_proxy(conn)\n\u001b[1;32m    664\u001b[0m \u001b[39m# Make the request on the httplib connection object.\u001b[39;00m\n\u001b[0;32m--> 665\u001b[0m httplib_response \u001b[39m=\u001b[39m \u001b[39mself\u001b[39;49m\u001b[39m.\u001b[39;49m_make_request(\n\u001b[1;32m    666\u001b[0m     conn,\n\u001b[1;32m    667\u001b[0m     method,\n\u001b[1;32m    668\u001b[0m     url,\n\u001b[1;32m    669\u001b[0m     timeout\u001b[39m=\u001b[39;49mtimeout_obj,\n\u001b[1;32m    670\u001b[0m     body\u001b[39m=\u001b[39;49mbody,\n\u001b[1;32m    671\u001b[0m     headers\u001b[39m=\u001b[39;49mheaders,\n\u001b[1;32m    672\u001b[0m     chunked\u001b[39m=\u001b[39;49mchunked,\n\u001b[1;32m    673\u001b[0m )\n\u001b[1;32m    675\u001b[0m \u001b[39m# If we're going to release the connection in ``finally:``, then\u001b[39;00m\n\u001b[1;32m    676\u001b[0m \u001b[39m# the response doesn't need to know about the connection. Otherwise\u001b[39;00m\n\u001b[1;32m    677\u001b[0m \u001b[39m# it will also try to release it and we'll have a double-release\u001b[39;00m\n\u001b[1;32m    678\u001b[0m \u001b[39m# mess.\u001b[39;00m\n\u001b[1;32m    679\u001b[0m response_conn \u001b[39m=\u001b[39m conn \u001b[39mif\u001b[39;00m \u001b[39mnot\u001b[39;00m release_conn \u001b[39melse\u001b[39;00m \u001b[39mNone\u001b[39;00m\n",
      "File \u001b[0;32m/usr/lib/python3/dist-packages/urllib3/connectionpool.py:421\u001b[0m, in \u001b[0;36mHTTPConnectionPool._make_request\u001b[0;34m(self, conn, method, url, timeout, chunked, **httplib_request_kw)\u001b[0m\n\u001b[1;32m    416\u001b[0m             httplib_response \u001b[39m=\u001b[39m conn\u001b[39m.\u001b[39mgetresponse()\n\u001b[1;32m    417\u001b[0m         \u001b[39mexcept\u001b[39;00m \u001b[39mBaseException\u001b[39;00m \u001b[39mas\u001b[39;00m e:\n\u001b[1;32m    418\u001b[0m             \u001b[39m# Remove the TypeError from the exception chain in\u001b[39;00m\n\u001b[1;32m    419\u001b[0m             \u001b[39m# Python 3 (including for exceptions like SystemExit).\u001b[39;00m\n\u001b[1;32m    420\u001b[0m             \u001b[39m# Otherwise it looks like a bug in the code.\u001b[39;00m\n\u001b[0;32m--> 421\u001b[0m             six\u001b[39m.\u001b[39;49mraise_from(e, \u001b[39mNone\u001b[39;49;00m)\n\u001b[1;32m    422\u001b[0m \u001b[39mexcept\u001b[39;00m (SocketTimeout, BaseSSLError, SocketError) \u001b[39mas\u001b[39;00m e:\n\u001b[1;32m    423\u001b[0m     \u001b[39mself\u001b[39m\u001b[39m.\u001b[39m_raise_timeout(err\u001b[39m=\u001b[39me, url\u001b[39m=\u001b[39murl, timeout_value\u001b[39m=\u001b[39mread_timeout)\n",
      "File \u001b[0;32m<string>:3\u001b[0m, in \u001b[0;36mraise_from\u001b[0;34m(value, from_value)\u001b[0m\n",
      "File \u001b[0;32m/usr/lib/python3/dist-packages/urllib3/connectionpool.py:416\u001b[0m, in \u001b[0;36mHTTPConnectionPool._make_request\u001b[0;34m(self, conn, method, url, timeout, chunked, **httplib_request_kw)\u001b[0m\n\u001b[1;32m    413\u001b[0m \u001b[39mexcept\u001b[39;00m \u001b[39mTypeError\u001b[39;00m:\n\u001b[1;32m    414\u001b[0m     \u001b[39m# Python 3\u001b[39;00m\n\u001b[1;32m    415\u001b[0m     \u001b[39mtry\u001b[39;00m:\n\u001b[0;32m--> 416\u001b[0m         httplib_response \u001b[39m=\u001b[39m conn\u001b[39m.\u001b[39;49mgetresponse()\n\u001b[1;32m    417\u001b[0m     \u001b[39mexcept\u001b[39;00m \u001b[39mBaseException\u001b[39;00m \u001b[39mas\u001b[39;00m e:\n\u001b[1;32m    418\u001b[0m         \u001b[39m# Remove the TypeError from the exception chain in\u001b[39;00m\n\u001b[1;32m    419\u001b[0m         \u001b[39m# Python 3 (including for exceptions like SystemExit).\u001b[39;00m\n\u001b[1;32m    420\u001b[0m         \u001b[39m# Otherwise it looks like a bug in the code.\u001b[39;00m\n\u001b[1;32m    421\u001b[0m         six\u001b[39m.\u001b[39mraise_from(e, \u001b[39mNone\u001b[39;00m)\n",
      "File \u001b[0;32m/usr/lib/python3.8/http/client.py:1348\u001b[0m, in \u001b[0;36mHTTPConnection.getresponse\u001b[0;34m(self)\u001b[0m\n\u001b[1;32m   1346\u001b[0m \u001b[39mtry\u001b[39;00m:\n\u001b[1;32m   1347\u001b[0m     \u001b[39mtry\u001b[39;00m:\n\u001b[0;32m-> 1348\u001b[0m         response\u001b[39m.\u001b[39;49mbegin()\n\u001b[1;32m   1349\u001b[0m     \u001b[39mexcept\u001b[39;00m \u001b[39mConnectionError\u001b[39;00m:\n\u001b[1;32m   1350\u001b[0m         \u001b[39mself\u001b[39m\u001b[39m.\u001b[39mclose()\n",
      "File \u001b[0;32m/usr/lib/python3.8/http/client.py:316\u001b[0m, in \u001b[0;36mHTTPResponse.begin\u001b[0;34m(self)\u001b[0m\n\u001b[1;32m    314\u001b[0m \u001b[39m# read until we get a non-100 response\u001b[39;00m\n\u001b[1;32m    315\u001b[0m \u001b[39mwhile\u001b[39;00m \u001b[39mTrue\u001b[39;00m:\n\u001b[0;32m--> 316\u001b[0m     version, status, reason \u001b[39m=\u001b[39m \u001b[39mself\u001b[39;49m\u001b[39m.\u001b[39;49m_read_status()\n\u001b[1;32m    317\u001b[0m     \u001b[39mif\u001b[39;00m status \u001b[39m!=\u001b[39m CONTINUE:\n\u001b[1;32m    318\u001b[0m         \u001b[39mbreak\u001b[39;00m\n",
      "File \u001b[0;32m/usr/lib/python3.8/http/client.py:277\u001b[0m, in \u001b[0;36mHTTPResponse._read_status\u001b[0;34m(self)\u001b[0m\n\u001b[1;32m    276\u001b[0m \u001b[39mdef\u001b[39;00m \u001b[39m_read_status\u001b[39m(\u001b[39mself\u001b[39m):\n\u001b[0;32m--> 277\u001b[0m     line \u001b[39m=\u001b[39m \u001b[39mstr\u001b[39m(\u001b[39mself\u001b[39;49m\u001b[39m.\u001b[39;49mfp\u001b[39m.\u001b[39;49mreadline(_MAXLINE \u001b[39m+\u001b[39;49m \u001b[39m1\u001b[39;49m), \u001b[39m\"\u001b[39m\u001b[39miso-8859-1\u001b[39m\u001b[39m\"\u001b[39m)\n\u001b[1;32m    278\u001b[0m     \u001b[39mif\u001b[39;00m \u001b[39mlen\u001b[39m(line) \u001b[39m>\u001b[39m _MAXLINE:\n\u001b[1;32m    279\u001b[0m         \u001b[39mraise\u001b[39;00m LineTooLong(\u001b[39m\"\u001b[39m\u001b[39mstatus line\u001b[39m\u001b[39m\"\u001b[39m)\n",
      "File \u001b[0;32m/usr/lib/python3.8/socket.py:669\u001b[0m, in \u001b[0;36mSocketIO.readinto\u001b[0;34m(self, b)\u001b[0m\n\u001b[1;32m    667\u001b[0m \u001b[39mwhile\u001b[39;00m \u001b[39mTrue\u001b[39;00m:\n\u001b[1;32m    668\u001b[0m     \u001b[39mtry\u001b[39;00m:\n\u001b[0;32m--> 669\u001b[0m         \u001b[39mreturn\u001b[39;00m \u001b[39mself\u001b[39;49m\u001b[39m.\u001b[39;49m_sock\u001b[39m.\u001b[39;49mrecv_into(b)\n\u001b[1;32m    670\u001b[0m     \u001b[39mexcept\u001b[39;00m timeout:\n\u001b[1;32m    671\u001b[0m         \u001b[39mself\u001b[39m\u001b[39m.\u001b[39m_timeout_occurred \u001b[39m=\u001b[39m \u001b[39mTrue\u001b[39;00m\n",
      "File \u001b[0;32m/usr/lib/python3/dist-packages/urllib3/contrib/pyopenssl.py:313\u001b[0m, in \u001b[0;36mWrappedSocket.recv_into\u001b[0;34m(self, *args, **kwargs)\u001b[0m\n\u001b[1;32m    311\u001b[0m \u001b[39mdef\u001b[39;00m \u001b[39mrecv_into\u001b[39m(\u001b[39mself\u001b[39m, \u001b[39m*\u001b[39margs, \u001b[39m*\u001b[39m\u001b[39m*\u001b[39mkwargs):\n\u001b[1;32m    312\u001b[0m     \u001b[39mtry\u001b[39;00m:\n\u001b[0;32m--> 313\u001b[0m         \u001b[39mreturn\u001b[39;00m \u001b[39mself\u001b[39;49m\u001b[39m.\u001b[39;49mconnection\u001b[39m.\u001b[39;49mrecv_into(\u001b[39m*\u001b[39;49margs, \u001b[39m*\u001b[39;49m\u001b[39m*\u001b[39;49mkwargs)\n\u001b[1;32m    314\u001b[0m     \u001b[39mexcept\u001b[39;00m OpenSSL\u001b[39m.\u001b[39mSSL\u001b[39m.\u001b[39mSysCallError \u001b[39mas\u001b[39;00m e:\n\u001b[1;32m    315\u001b[0m         \u001b[39mif\u001b[39;00m \u001b[39mself\u001b[39m\u001b[39m.\u001b[39msuppress_ragged_eofs \u001b[39mand\u001b[39;00m e\u001b[39m.\u001b[39margs \u001b[39m==\u001b[39m (\u001b[39m-\u001b[39m\u001b[39m1\u001b[39m, \u001b[39m\"\u001b[39m\u001b[39mUnexpected EOF\u001b[39m\u001b[39m\"\u001b[39m):\n",
      "File \u001b[0;32m/usr/lib/python3/dist-packages/OpenSSL/SSL.py:1821\u001b[0m, in \u001b[0;36mConnection.recv_into\u001b[0;34m(self, buffer, nbytes, flags)\u001b[0m\n\u001b[1;32m   1819\u001b[0m     result \u001b[39m=\u001b[39m _lib\u001b[39m.\u001b[39mSSL_peek(\u001b[39mself\u001b[39m\u001b[39m.\u001b[39m_ssl, buf, nbytes)\n\u001b[1;32m   1820\u001b[0m \u001b[39melse\u001b[39;00m:\n\u001b[0;32m-> 1821\u001b[0m     result \u001b[39m=\u001b[39m _lib\u001b[39m.\u001b[39;49mSSL_read(\u001b[39mself\u001b[39;49m\u001b[39m.\u001b[39;49m_ssl, buf, nbytes)\n\u001b[1;32m   1822\u001b[0m \u001b[39mself\u001b[39m\u001b[39m.\u001b[39m_raise_ssl_error(\u001b[39mself\u001b[39m\u001b[39m.\u001b[39m_ssl, result)\n\u001b[1;32m   1824\u001b[0m \u001b[39m# This strange line is all to avoid a memory copy. The buffer protocol\u001b[39;00m\n\u001b[1;32m   1825\u001b[0m \u001b[39m# should allow us to assign a CFFI buffer to the LHS of this line, but\u001b[39;00m\n\u001b[1;32m   1826\u001b[0m \u001b[39m# on CPython 3.3+ that segfaults. As a workaround, we can temporarily\u001b[39;00m\n\u001b[1;32m   1827\u001b[0m \u001b[39m# wrap it in a memoryview.\u001b[39;00m\n",
      "\u001b[0;31mKeyboardInterrupt\u001b[0m: "
     ]
    }
   ],
   "source": [
    "symbols = [\"ETH/USDT\", \"ETH/BTC\", \"BTC/USDT\"]\n",
    "FTX_maker_charge = 0.001\n",
    "unit = 100\n",
    "\n",
    "BTC_Storage = 0\n",
    "ETH_Storage = 0\n",
    "USDT_Storage = 100\n",
    "while True:\n",
    "    FTX_orders = FTX_client.get_orderbook(symbols[0], 1)\n",
    "    By_bid_0 = float(FTX_orders[\"bids\"][0][0])\n",
    "    By_ask_0 = float(FTX_orders[\"asks\"][0][0])\n",
    "    FTX_orders = FTX_client.get_orderbook(symbols[1], 1)\n",
    "    By_bid_1 = float(FTX_orders[\"bids\"][0][0])\n",
    "    By_ask_1 = float(FTX_orders[\"asks\"][0][0])\n",
    "    FTX_orders = FTX_client.get_orderbook(symbols[2], 1)\n",
    "    By_bid_2 = float(FTX_orders[\"bids\"][0][0])\n",
    "    By_ask_2 = float(FTX_orders[\"asks\"][0][0])\n",
    "\n",
    "    if (1 / By_ask_0 * By_bid_1 * By_bid_2 > 1 / (1 - FTX_maker_charge)**3):\n",
    "        # Charging_Reward -= 3 * FTX_maker_charge * unit * By_ask_0\n",
    "        # print(\"Buy ETH, Sell ETH to BTC, Sell BTC get USDT\")\n",
    "        USDT_Storage -= unit * By_ask_0\n",
    "        ETH_Storage += unit\n",
    "\n",
    "        BTC_Storage += ETH_Storage * By_bid_1\n",
    "        ETH_Storage = 0\n",
    "\n",
    "        USDT_Storage += BTC_Storage * By_bid_2\n",
    "        BTC_Storage = 0\n",
    "        # print(\"USDT:\", USDT_Storage, \"ETH:\", ETH_Storage, \"BTC\", BTC_Storage, \"Charging Reward:\", Charging_Reward, \"Profit:\", USDT_Storage + Charging_Reward)\n",
    "        print(By_bid_0, By_ask_0)"
   ]
  },
  {
   "cell_type": "code",
   "execution_count": 116,
   "metadata": {},
   "outputs": [],
   "source": [
    "Bybit_symbols = [\"ETHUSDT\", \"ETHBTC\", \"BTCUSDT\"]\n",
    "Bybit_maker_charge = 0.0001\n",
    "Charging_Reward = 0.0\n",
    "\n",
    "FTX_maker_charge = 0.0002\n",
    "\n",
    "unit = 0.05\n",
    "# profit = 0\n",
    "\n",
    "\n",
    "BTC_Storage = 0\n",
    "ETH_Storage = 0\n",
    "USDT_Storage = 100\n",
    "\n",
    "while True:\n",
    "    # print(Bybit_client.last_traded_price())\n",
    "    # record =Bybit_client.public_trading_records(symbol=Bybit_symbols[0])[\"result\"]\n",
    "    # print(record[0][\"price\"], record[0][\"qty\"], record[0][\"time\"])\n",
    "\n",
    "    By_orders_0 = Bybit_client.orderbook(symbol=Bybit_symbols[0])\n",
    "    By_bid_0 = float(By_orders_0[\"result\"][\"bids\"][0][0])\n",
    "    By_ask_0 = float(By_orders_0[\"result\"][\"asks\"][0][0])\n",
    "\n",
    "    By_orders_1 = Bybit_client.orderbook(symbol=Bybit_symbols[1])\n",
    "    By_bid_1 = float(By_orders_1[\"result\"][\"bids\"][0][0])\n",
    "    By_ask_1 = float(By_orders_1[\"result\"][\"asks\"][0][0])\n",
    "\n",
    "    By_orders_2 = Bybit_client.orderbook(symbol=Bybit_symbols[2])\n",
    "    By_bid_2 = float(By_orders_2[\"result\"][\"bids\"][0][0])\n",
    "    By_ask_2 = float(By_orders_2[\"result\"][\"asks\"][0][0])\n",
    "\n",
    "    if (1 / By_ask_0 * By_bid_1 * By_bid_2 > 1 / (1 - Bybit_maker_charge)**3):\n",
    "        Charging_Reward -= 3 * Bybit_maker_charge * unit * By_ask_0\n",
    "        # print(\"Buy ETH, Sell ETH to BTC, Sell BTC get USDT\")\n",
    "        USDT_Storage -= unit * By_ask_0\n",
    "        ETH_Storage += unit\n",
    "\n",
    "        BTC_Storage += ETH_Storage * By_bid_1\n",
    "        ETH_Storage = 0\n",
    "\n",
    "        USDT_Storage += BTC_Storage * By_bid_2\n",
    "        BTC_Storage = 0\n",
    "        # print(\"USDT:\", USDT_Storage, \"ETH:\", ETH_Storage, \"BTC\", BTC_Storage, \"Charging Reward:\", Charging_Reward, \"Profit:\", USDT_Storage + Charging_Reward)\n",
    "        print(By_bid_0, By_ask_0)\n",
    "    # break\n",
    "\n",
    "    # if (1 / By_ask_2 / By_ask_1 * By_bid_0 > 1 / (1 - Bybit_maker_charge)**3):\n",
    "    #     print(\"Buy BTC, Sell BTC to ETH, Sell ETH get USDT\")\n"
   ]
  }
 ],
 "metadata": {
  "kernelspec": {
   "display_name": "Python 3.8.10 64-bit",
   "language": "python",
   "name": "python3"
  },
  "language_info": {
   "codemirror_mode": {
    "name": "ipython",
    "version": 3
   },
   "file_extension": ".py",
   "mimetype": "text/x-python",
   "name": "python",
   "nbconvert_exporter": "python",
   "pygments_lexer": "ipython3",
   "version": "3.8.10"
  },
  "orig_nbformat": 4,
  "vscode": {
   "interpreter": {
    "hash": "5b3ded1ccb95c1d9bd405e7b823d9e85424cde40fbb5985eb47e999ef50e15b4"
   }
  }
 },
 "nbformat": 4,
 "nbformat_minor": 2
}
