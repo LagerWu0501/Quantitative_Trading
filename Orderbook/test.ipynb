{
 "cells": [
  {
   "cell_type": "code",
   "execution_count": 40,
   "metadata": {},
   "outputs": [],
   "source": [
    "import asyncio\n",
    "from binance import AsyncClient\n",
    "from binance.client import Client\n",
    "from binance.exceptions import BinanceAPIException\n",
    "from binance.exceptions import BinanceRequestException\n",
    "\n",
    "from time import sleep"
   ]
  },
  {
   "cell_type": "code",
   "execution_count": 36,
   "metadata": {},
   "outputs": [],
   "source": [
    "api_key = \"i2kSCOj7HhGYWDdA434gh23A44KxCPWQGEiNLorlV6cwHREacRkMXEbUzaJio1l0\"\n",
    "secret_key = \"gaHfqDJojqa9Ae1kOWHqtOwlm6G08YSsr1Dw1Dm5adaBWyCzWc6UENSZoz1YBI8T\""
   ]
  },
  {
   "cell_type": "code",
   "execution_count": 37,
   "metadata": {},
   "outputs": [],
   "source": [
    "client = Client()"
   ]
  },
  {
   "cell_type": "code",
   "execution_count": 38,
   "metadata": {},
   "outputs": [
    {
     "name": "stdout",
     "output_type": "stream",
     "text": [
      "999\n",
      "BinanceAPIException\n",
      "out of weight\n",
      "1999\n",
      "interrupt\n"
     ]
    }
   ],
   "source": [
    "i = 0\n",
    "while True:\n",
    "    try:\n",
    "        orderbook = client.get_order_book(symbol = \"ETHUSDT\")\n",
    "        if i % 1000 == 1000 - 1:\n",
    "            print(i)\n",
    "\n",
    "    except KeyboardInterrupt:\n",
    "        print(\"interrupt\")\n",
    "        break \n",
    "\n",
    "    except BinanceAPIException as myException:\n",
    "        print(type(myException).__name__)\n",
    "        print(\"out of weight\")\n",
    "        sleep(10)\n",
    "    i += 1\n"
   ]
  }
 ],
 "metadata": {
  "kernelspec": {
   "display_name": "Python 3.10.6 64-bit",
   "language": "python",
   "name": "python3"
  },
  "language_info": {
   "codemirror_mode": {
    "name": "ipython",
    "version": 3
   },
   "file_extension": ".py",
   "mimetype": "text/x-python",
   "name": "python",
   "nbconvert_exporter": "python",
   "pygments_lexer": "ipython3",
   "version": "3.10.6"
  },
  "orig_nbformat": 4,
  "vscode": {
   "interpreter": {
    "hash": "b0fa6594d8f4cbf19f97940f81e996739fb7646882a419484c72d19e05852a7e"
   }
  }
 },
 "nbformat": 4,
 "nbformat_minor": 2
}
