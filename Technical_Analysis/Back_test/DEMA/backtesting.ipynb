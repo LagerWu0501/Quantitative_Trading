{
 "cells": [
  {
   "cell_type": "code",
   "execution_count": 37,
   "metadata": {},
   "outputs": [],
   "source": [
    "import pandas as pd\n",
    "import numpy as np\n",
    "import pandas_ta as ta\n",
    "import plotly.graph_objects as go\n",
    "from datetime import date, timedelta\n",
    "import datetime\n",
    "from binance.client import Client\n",
    "# import time\n",
    "# import math\n",
    "# import binance\n",
    "# import plotly as plt\n",
    "# from matplotlib import pyplot as plt\n",
    "# import vectorbt as vb\n",
    "\n",
    "import warnings\n",
    "warnings.simplefilter(action='ignore', category=FutureWarning)\n",
    "pd.options.mode.chained_assignment = None "
   ]
  },
  {
   "cell_type": "code",
   "execution_count": 34,
   "metadata": {},
   "outputs": [],
   "source": [
    "global api \n",
    "api = \"\"\n",
    "global private \n",
    "private = \"\""
   ]
  },
  {
   "cell_type": "code",
   "execution_count": 90,
   "metadata": {},
   "outputs": [],
   "source": [
    "start_str= \"2021-07-03\"\n",
    "client = Client(api,private)\n",
    "bars = client.get_historical_klines(symbol='BTCUSDT',interval=\"12h\",start_str=start_str)\n",
    "test_df = pd.DataFrame(bars[:],columns=[\"timestamp\",\"open\",\"high\",\"low\",\"close\",\"volume\", \"close_time\", \"quote_asset_volume\", \"number_of_trade\", \"TBB\", \"TBQ\", \"ignore\"])\n",
    "test_df[\"date\"]=pd.to_datetime(test_df[\"timestamp\"],unit=\"ms\").astype(str)\n",
    "test_df = test_df.drop([\"close_time\", \"quote_asset_volume\", \"number_of_trade\", \"TBB\", \"TBQ\", \"ignore\"], axis=1)\n",
    "test_df[[\"open\",\"high\",\"low\",\"close\",\"volume\"]] =test_df[[\"open\",\"high\",\"low\",\"close\",\"volume\"]].apply(pd.to_numeric, errors='coerce', axis=1)\n",
    "\n",
    "smooth = 2\n",
    "short_period = 10\n",
    "long_period = 100\n",
    "\n",
    "test_df[\"short EMA\"] = test_df[\"close\"].copy()\n",
    "for i in range(1, len(test_df)):\n",
    "    test_df[\"short EMA\"][i] = test_df[\"short EMA\"][i - 1] * (1 - smooth / (short_period + 1)) + test_df[\"short EMA\"][i] * smooth / (short_period + 1)\n",
    "\n",
    "test_df[\"short DEMA\"] = test_df[\"short EMA\"].copy()\n",
    "\n",
    "test_df[\"long EMA\"] = test_df[\"close\"].copy()\n",
    "for i in range(1, len(test_df)):\n",
    "    test_df[\"long EMA\"][i] = test_df[\"long EMA\"][i - 1] * (1 - smooth / (long_period + 1)) + test_df[\"long EMA\"][i] * smooth / (long_period + 1)\n",
    "\n",
    "test_df[\"long DEMA\"] = test_df[\"long EMA\"].copy()"
   ]
  },
  {
   "cell_type": "code",
   "execution_count": 91,
   "metadata": {},
   "outputs": [],
   "source": [
    "test_df[\"boo\"] = (test_df[\"short DEMA\"] - test_df[\"long DEMA\"] > 0)\n",
    "ind = test_df[[\"timestamp\",\"boo\"]]"
   ]
  },
  {
   "cell_type": "code",
   "execution_count": 103,
   "metadata": {},
   "outputs": [
    {
     "data": {
      "text/plain": [
       "['BTCUSDT', 1103.1533552201997, 1.1031533552201997]"
      ]
     },
     "execution_count": 103,
     "metadata": {},
     "output_type": "execute_result"
    }
   ],
   "source": [
    "def backtesting(indicator,symbol,startdate,enddate=None,timeframe = \"1d\",capital=1000,storage=0,delay=0):\n",
    "\n",
    "\tif delay !=0 :\n",
    "\t\tst = datetime.datetime.strptime(startdate,'%Y-%m-%d').date()-timedelta(delay)\n",
    "\t\tstartdate = st.strftime(\"%Y-%m-%d\")\n",
    "\tclient = Client(api,private)\n",
    "\tbars = client.get_historical_klines(symbol='BTCUSDT',interval=timeframe,start_str=startdate,end_str= enddate)\n",
    "\tdf = pd.DataFrame(bars[:],columns=[\"timestamp\",\"open\",\"high\",\"low\",\"close\",\"volume\", \"close_time\", \"quote_asset_volume\", \"number_of_trade\", \"TBB\", \"TBQ\", \"ignore\"])\n",
    "\tdf = df.drop([\"close_time\", \"quote_asset_volume\", \"number_of_trade\", \"TBB\", \"TBQ\", \"ignore\"], axis=1)\n",
    "\tdf[\"date\"]=pd.to_datetime(df[\"timestamp\"],unit=\"ms\").astype(str)\n",
    "\tdf[[\"open\",\"high\",\"low\",\"close\",\"volume\"]] =df[[\"open\",\"high\",\"low\",\"close\",\"volume\"]].apply(pd.to_numeric, errors='coerce', axis=1)\n",
    "\t\n",
    "\tfor i in range(0, len(df)):\n",
    "\t\tif indicator[\"timestamp\"][0] == df[\"timestamp\"][i]:\n",
    "\t\t\tst = i\n",
    "\t\t\tbreak\n",
    "\telse:\n",
    "\t\treturn \"error in date\"\n",
    "\tmoney = capital\n",
    "\tmink = min(len(indicator)-2,len(df)-st)\n",
    "\tfor i,j in zip(range(150, 2 + mink),range(st+150, st + mink)):\n",
    "\t# for i,j in zip(range(2, 2 + mink),range(st, st + mink)):\n",
    "\t\tif (indicator.iat[i-2,1]==0 and indicator.iat[i-1,1]==1):\n",
    "\t\t\tif(storage<0):\n",
    "\t\t\t\tmoney += storage * df[\"close\"][j]\n",
    "\t\t\t\tstorage = 0\n",
    "\t\t\tstorage += money / df[\"close\"][j]\n",
    "\t\t\tmoney = 0\n",
    "\n",
    "\t\telif (indicator.iat[i-2,1]==1 and indicator.iat[i-1,1]==0):\n",
    "\t\t\tif (storage > 0):\n",
    "\t\t\t\tmoney += storage * df[\"close\"][j]\n",
    "\t\t\t\tstorage = 0\n",
    "\t\t\tstorage -= money / df[\"close\"][j]\n",
    "\t\t\tmoney -= storage * df[\"close\"][j]\n",
    "\n",
    "\n",
    "\tprofit =(money + storage * df[\"close\"][len(df)-1])\n",
    "\t\n",
    "\treturns = [symbol, profit, profit / capital]\n",
    "\treturn(returns)\n",
    "\n",
    "backtesting(ind,\"BTCUSDT\",\"2021-07-03\",timeframe=\"12h\")\n"
   ]
  }
 ],
 "metadata": {
  "kernelspec": {
   "display_name": "Python 3.10.5 64-bit",
   "language": "python",
   "name": "python3"
  },
  "language_info": {
   "codemirror_mode": {
    "name": "ipython",
    "version": 3
   },
   "file_extension": ".py",
   "mimetype": "text/x-python",
   "name": "python",
   "nbconvert_exporter": "python",
   "pygments_lexer": "ipython3",
   "version": "3.10.5"
  },
  "orig_nbformat": 4,
  "vscode": {
   "interpreter": {
    "hash": "97cc609b13305c559618ec78a438abc56230b9381f827f22d070313b9a1f3777"
   }
  }
 },
 "nbformat": 4,
 "nbformat_minor": 2
}
