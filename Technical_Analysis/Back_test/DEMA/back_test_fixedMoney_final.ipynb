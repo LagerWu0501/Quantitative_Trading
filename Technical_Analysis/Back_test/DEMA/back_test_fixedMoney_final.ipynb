{
 "cells": [
  {
   "cell_type": "code",
   "execution_count": null,
   "metadata": {},
   "outputs": [],
   "source": [
    "import pandas as pd\n",
    "import numpy as np\n",
    "from binance.client import Client\n",
    "import warnings\n",
    "warnings.simplefilter(action='ignore', category=FutureWarning)\n",
    "pd.options.mode.chained_assignment = None "
   ]
  },
  {
   "cell_type": "code",
   "execution_count": null,
   "metadata": {},
   "outputs": [],
   "source": [
    "class Strategy():\n",
    "    def __init__(self, client, symbols, timeframe, startdate = \"2 year ago UTC\", service_charge = 0.00075, money = 1000, storage = 0):\n",
    "        self.client = client\n",
    "        self.symbols = symbols\n",
    "        self.timeframe = timeframe\n",
    "        self.startdate = startdate\n",
    "        self.service_charge = service_charge\n",
    "        self.start_money = [money] * len(symbols)\n",
    "        self.start_storage = [storage] * len(symbols)\n",
    "\n",
    "        self.all_data = []\n",
    "        for coin in symbols:\n",
    "            bars = client.get_historical_klines(symbol=f'{coin}USDT',interval=timeframe,start_str=self.startdate)\n",
    "            test_df = pd.DataFrame(bars[:],columns=[\"timestamp\",\"open\",\"high\",\"low\",\"close\",\"volume\", \"close_time\", \"quote_asset_volume\", \"number_of_trade\", \"TBB\", \"TBQ\", \"ignore\"])\n",
    "            test_df[\"date\"]=pd.to_datetime(test_df[\"timestamp\"],unit=\"ms\").astype(str)\n",
    "            test_df = test_df.drop([\"timestamp\", \"close_time\", \"quote_asset_volume\", \"number_of_trade\", \"TBB\", \"TBQ\", \"ignore\"], axis=1)\n",
    "            test_df[\"open\"] = pd.to_numeric(test_df[\"open\"])\n",
    "            test_df[\"high\"] = pd.to_numeric(test_df[\"high\"])\n",
    "            test_df[\"low\"] = pd.to_numeric(test_df[\"low\"])\n",
    "            test_df[\"close\"] = pd.to_numeric(test_df[\"close\"])\n",
    "            test_df[\"volume\"] = pd.to_numeric(test_df[\"volume\"])\n",
    "            test_df[\"signal\"] = [\"None\"] * len(test_df)\n",
    "            self.all_data.append(test_df)\n",
    "\n",
    "        self.profit = [0] * len(symbols)\n",
    "    def print(self):\n",
    "        print(\"Time frame\", self.timeframe)\n",
    "        print(\"Start from\", self.startdate)\n",
    "\n",
    "        for i in range(len(self.symbols)):\n",
    "            print(\"=============\")\n",
    "            print(self.symbols[i], self.profit[i])\n",
    "\n",
    "        print(\"=============\")\n",
    "        print(\"average\", sum(self.profit) / len(self.profit))\n",
    "\n",
    "    def decide_action(self):\n",
    "        pass\n",
    "\n",
    "    def back_test(self, type = \"all in\", fixed_money = None):\n",
    "        for i in range(len(self.symbols)):\n",
    "            money = self.start_money[i]\n",
    "            storage = self.start_storage[i]\n",
    "            for j in range(len(self.all_data[i])):\n",
    "                if (self.all_data[i][\"signal\"][j] == \"buy\"):\n",
    "                    if (type == \"all in\"):\n",
    "                        if (storage < 0):\n",
    "                            money -= -1 * storage * self.all_data[i][\"close\"][j]\n",
    "                            storage = 0\n",
    "                        storage += money / self.all_data[i][\"close\"][j] \n",
    "                        money = 0\n",
    "                    else:\n",
    "                        if (storage > 0):\n",
    "                            money -= -1 * storage * self.all_data[i][\"close\"][j]\n",
    "                            storage = 0\n",
    "                        storage += fixed_money[i] / self.all_data[i][\"close\"][j] \n",
    "                        money -= fixed_money[i]\n",
    "                elif (self.all_data[i][\"signal\"][j] == \"sell\"):\n",
    "                    if (type == \"all in\"):\n",
    "                        if (storage > 0):\n",
    "                            money += storage * self.all_data[i][\"close\"][j]\n",
    "                            storage = 0\n",
    "                        storage -= money / self.all_data[i][\"close\"][j] \n",
    "                        money += money\n",
    "                    else:\n",
    "                        if (storage > 0):\n",
    "                            money += storage * self.all_data[i][\"close\"][j]\n",
    "                            storage = 0\n",
    "                        storage -= fixed_money[i] / self.all_data[i][\"close\"][j] \n",
    "                        money += fixed_money[i]\n",
    "            self.profit[i] = (money + storage * self.all_data[i][\"close\"][len(self.all_data[i]) - 1]) / self.start_money[i]"
   ]
  },
  {
   "cell_type": "code",
   "execution_count": null,
   "metadata": {},
   "outputs": [],
   "source": [
    "class EMA(Strategy):\n",
    "    def decide_action(self, smooth = 2, short_period = 10, long_period = 100, stable_offset = 150):\n",
    "        for i in range(len(self.all_data)):\n",
    "            self.all_data[i][\"short EMA\"] = self.all_data[i][\"close\"].copy()\n",
    "            self.all_data[i][\"long EMA\"] = self.all_data[i][\"close\"].copy()\n",
    "            self.all_data[i][\"signal\"] = [\"None\"] * len(self.all_data[i])\n",
    "\n",
    "            for j in range(1, len(self.all_data[i])):\n",
    "                self.all_data[i][\"short EMA\"][j] = self.all_data[i][\"short EMA\"][j] * smooth / (short_period + 1) + self.all_data[i][\"short EMA\"][j - 1] * (1 - smooth / (short_period + 1))\n",
    "                self.all_data[i][\"long EMA\"][j] = self.all_data[i][\"long EMA\"][j] * smooth / (long_period + 1) + self.all_data[i][\"long EMA\"][j - 1] * (1 - smooth / (long_period + 1))\n",
    "            for j in range(stable_offset, len(self.all_data[i])):\n",
    "                if (self.all_data[i][\"short EMA\"][j - 1] > self.all_data[i][\"long EMA\"][j - 1] and self.all_data[i][\"short EMA\"][j - 2] < self.all_data[i][\"long EMA\"][j - 2]):\n",
    "                    self.all_data[i][\"signal\"][j] = \"buy\"\n",
    "                elif (self.all_data[i][\"short EMA\"][j - 1] < self.all_data[i][\"long EMA\"][j - 1] and self.all_data[i][\"short EMA\"][j - 2] > self.all_data[i][\"long EMA\"][j - 2]):\n",
    "                    self.all_data[i][\"signal\"][j] = \"sell\"\n"
   ]
  },
  {
   "cell_type": "code",
   "execution_count": null,
   "metadata": {},
   "outputs": [],
   "source": [
    "profits = []\n",
    "count = 0\n",
    "target_symbol = [\"BTC\", \"ETH\", \"ADA\", \"BNB\"]\n",
    "time_frames = [\"1d\", \"12h\", \"6h\", \"4h\", \"2h\", \"1h\"]\n",
    "time_frames = [\"12h\"]\n",
    "start_str = \"1 year ago UTC\"\n",
    "client = Client(\"YjY0w2BJZZ35o2Q9So1OvRP1gm3exc01LKp2yyLpMth5xmqVn0tQosRYOPrnb7la\", \"5rRXJ2rOa96hVPZTTOfVP9H4blP6AMt2QN2M0RWX2cMq9PngbJ5MEK88eGB9I4YD\")\n",
    "res = []\n",
    "for timeframe in time_frames:\n",
    "    a = EMA(client, target_symbol, timeframe, start_str)\n",
    "    b = EMA(client, target_symbol, timeframe, start_str)\n",
    "    for short_period in range(5, 30):\n",
    "        for long_period in range(50,150):\n",
    "            a.decide_action(short_period=short_period, long_period=long_period, stable_offset=long_period)\n",
    "            b.decide_action(short_period=short_period, long_period=long_period, stable_offset=long_period)\n",
    "            a.back_test(type=\"fixed_money\", fixed_money=[1000] * len(target_symbol))\n",
    "            b.back_test(type=\"all in\", fixed_money=[1000] * len(target_symbol))\n",
    "            res.append([short_period, long_period, timeframe, sum(a.profit) / len(a.profit)])\n",
    "            print(\"short\", short_period, \"long\", long_period, \"timeframe\", timeframe, \"average\",\"fixed money\", sum(a.profit) / len(a.profit), \"all in\", sum(b.profit) / len(b.profit))"
   ]
  },
  {
   "cell_type": "code",
   "execution_count": null,
   "metadata": {},
   "outputs": [],
   "source": [
    "a.print()"
   ]
  }
 ],
 "metadata": {
  "kernelspec": {
   "display_name": "Python 3.8.10 64-bit",
   "language": "python",
   "name": "python3"
  },
  "language_info": {
   "codemirror_mode": {
    "name": "ipython",
    "version": 3
   },
   "file_extension": ".py",
   "mimetype": "text/x-python",
   "name": "python",
   "nbconvert_exporter": "python",
   "pygments_lexer": "ipython3",
   "version": "3.8.10"
  },
  "orig_nbformat": 4,
  "vscode": {
   "interpreter": {
    "hash": "5b3ded1ccb95c1d9bd405e7b823d9e85424cde40fbb5985eb47e999ef50e15b4"
   }
  }
 },
 "nbformat": 4,
 "nbformat_minor": 2
}
