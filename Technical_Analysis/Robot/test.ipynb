{
 "cells": [
  {
   "cell_type": "code",
   "execution_count": 2,
   "metadata": {},
   "outputs": [],
   "source": [
    "import numpy as np\n",
    "from binance.client import Client"
   ]
  },
  {
   "cell_type": "code",
   "execution_count": 10,
   "metadata": {},
   "outputs": [],
   "source": [
    "Binance = {\"API\": \"QWQdYEy85cFvsmmut05waMddNPv0UgU0VPK9tQLUvFwKAlB3DfaPuk1uuEPQEdZp\",\n",
    "           \"Secret\": \"xVJkZxGsVXUfkX6ybvUn3ebE2gPgPHzqRWu6O7kG3ALZUo0WFL70nDMviGOy0NTy\"}\n",
    "client = Client(Binance[\"API\"], Binance[\"Secret\"])"
   ]
  },
  {
   "cell_type": "code",
   "execution_count": 77,
   "metadata": {},
   "outputs": [
    {
     "data": {
      "text/plain": [
       "'0.020'"
      ]
     },
     "execution_count": 77,
     "metadata": {},
     "output_type": "execute_result"
    }
   ],
   "source": [
    "client.futures_position_information(symbol = \"ETHUSDT\")[0][\"positionAmt\"]\n",
    "# client.get_all_coins_info()"
   ]
  },
  {
   "cell_type": "code",
   "execution_count": 23,
   "metadata": {},
   "outputs": [
    {
     "data": {
      "text/plain": [
       "{'symbol': 'BTCUSDT', 'leverage': 1, 'maxNotionalValue': 'INF'}"
      ]
     },
     "execution_count": 23,
     "metadata": {},
     "output_type": "execute_result"
    }
   ],
   "source": [
    "# symbol = \"BTCUSDT\"\n",
    "# order = \"BUY\"\n",
    "# order_type = \"MARKET\"\n",
    "# amount = 0.001\n",
    "# leverage = 1\n",
    "# client.futures_change_leverage(symbol=symbol, leverage=leverage)"
   ]
  },
  {
   "cell_type": "code",
   "execution_count": 24,
   "metadata": {},
   "outputs": [
    {
     "data": {
      "text/plain": [
       "{'orderId': 62711092564,\n",
       " 'symbol': 'BTCUSDT',\n",
       " 'status': 'NEW',\n",
       " 'clientOrderId': 'wgjyfE0p6ai0RJ7LOW2joR',\n",
       " 'price': '0',\n",
       " 'avgPrice': '0.00000',\n",
       " 'origQty': '0.001',\n",
       " 'executedQty': '0',\n",
       " 'cumQty': '0',\n",
       " 'cumQuote': '0',\n",
       " 'timeInForce': 'GTC',\n",
       " 'type': 'MARKET',\n",
       " 'reduceOnly': False,\n",
       " 'closePosition': False,\n",
       " 'side': 'BUY',\n",
       " 'positionSide': 'BOTH',\n",
       " 'stopPrice': '0',\n",
       " 'workingType': 'CONTRACT_PRICE',\n",
       " 'priceProtect': False,\n",
       " 'origType': 'MARKET',\n",
       " 'updateTime': 1657769786162}"
      ]
     },
     "execution_count": 24,
     "metadata": {},
     "output_type": "execute_result"
    }
   ],
   "source": [
    "# client.futures_create_order(\n",
    "#     symbol = symbol,\n",
    "#     side = order,\n",
    "#     type = order_type,\n",
    "#     time_in_force = \"GTC\",\n",
    "#     quantity = amount\n",
    "# )"
   ]
  },
  {
   "cell_type": "code",
   "execution_count": 25,
   "metadata": {},
   "outputs": [
    {
     "data": {
      "text/plain": [
       "{'symbol': 'ETHUSDT', 'leverage': 1, 'maxNotionalValue': '500000000'}"
      ]
     },
     "execution_count": 25,
     "metadata": {},
     "output_type": "execute_result"
    }
   ],
   "source": [
    "# symbol = \"ETHUSDT\"\n",
    "# order = \"BUY\"\n",
    "# order_type = \"MARKET\"\n",
    "# amount = 0.01\n",
    "# leverage = 1\n",
    "# client.futures_change_leverage(symbol=symbol, leverage=leverage)"
   ]
  },
  {
   "cell_type": "code",
   "execution_count": 26,
   "metadata": {},
   "outputs": [
    {
     "data": {
      "text/plain": [
       "{'orderId': 8389765530009614514,\n",
       " 'symbol': 'ETHUSDT',\n",
       " 'status': 'NEW',\n",
       " 'clientOrderId': 'l6UymTJ34U4hqG5QOJXGlX',\n",
       " 'price': '0',\n",
       " 'avgPrice': '0.00000',\n",
       " 'origQty': '0.010',\n",
       " 'executedQty': '0',\n",
       " 'cumQty': '0',\n",
       " 'cumQuote': '0',\n",
       " 'timeInForce': 'GTC',\n",
       " 'type': 'MARKET',\n",
       " 'reduceOnly': False,\n",
       " 'closePosition': False,\n",
       " 'side': 'BUY',\n",
       " 'positionSide': 'BOTH',\n",
       " 'stopPrice': '0',\n",
       " 'workingType': 'CONTRACT_PRICE',\n",
       " 'priceProtect': False,\n",
       " 'origType': 'MARKET',\n",
       " 'updateTime': 1657769786513}"
      ]
     },
     "execution_count": 26,
     "metadata": {},
     "output_type": "execute_result"
    }
   ],
   "source": [
    "# client.futures_create_order(\n",
    "#     symbol = symbol,\n",
    "#     side = order,\n",
    "#     type = order_type,\n",
    "#     time_in_force = \"GTC\",\n",
    "#     quantity = amount\n",
    "# )"
   ]
  },
  {
   "cell_type": "code",
   "execution_count": 59,
   "metadata": {},
   "outputs": [
    {
     "data": {
      "text/plain": [
       "{'dualSidePosition': False}"
      ]
     },
     "execution_count": 59,
     "metadata": {},
     "output_type": "execute_result"
    }
   ],
   "source": [
    "# leverage = 2\n",
    "# client.futures_change_leverage(symbol=symbol, leverage=leverage)\n",
    "# client.futures_change_margin_type(symbol = \"ETHUSDT\", marginType = \"ISOLATED\")\n",
    "# client.futures_change_margin_type(symbol = \"ETHUSDT\", marginType = \"CROSS\")"
   ]
  }
 ],
 "metadata": {
  "kernelspec": {
   "display_name": "Python 3.8.10 64-bit",
   "language": "python",
   "name": "python3"
  },
  "language_info": {
   "codemirror_mode": {
    "name": "ipython",
    "version": 3
   },
   "file_extension": ".py",
   "mimetype": "text/x-python",
   "name": "python",
   "nbconvert_exporter": "python",
   "pygments_lexer": "ipython3",
   "version": "3.8.10"
  },
  "orig_nbformat": 4,
  "vscode": {
   "interpreter": {
    "hash": "5b3ded1ccb95c1d9bd405e7b823d9e85424cde40fbb5985eb47e999ef50e15b4"
   }
  }
 },
 "nbformat": 4,
 "nbformat_minor": 2
}
